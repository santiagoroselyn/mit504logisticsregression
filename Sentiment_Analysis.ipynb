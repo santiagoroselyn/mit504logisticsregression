{
  "nbformat": 4,
  "nbformat_minor": 0,
  "metadata": {
    "colab": {
      "provenance": [],
      "authorship_tag": "ABX9TyNvR3+LWuDzvBs67ikqBS9U",
      "include_colab_link": true
    },
    "kernelspec": {
      "name": "python3",
      "display_name": "Python 3"
    },
    "language_info": {
      "name": "python"
    }
  },
  "cells": [
    {
      "cell_type": "markdown",
      "metadata": {
        "id": "view-in-github",
        "colab_type": "text"
      },
      "source": [
        "<a href=\"https://colab.research.google.com/github/santiagoroselyn/MIT-504/blob/main/Sentiment_Analysis.ipynb\" target=\"_parent\"><img src=\"https://colab.research.google.com/assets/colab-badge.svg\" alt=\"Open In Colab\"/></a>"
      ]
    },
    {
      "cell_type": "markdown",
      "source": [
        "**Step 1: Install the Required Libraries**"
      ],
      "metadata": {
        "id": "gb6mrwUkGOgd"
      }
    },
    {
      "cell_type": "code",
      "execution_count": 1,
      "metadata": {
        "colab": {
          "base_uri": "https://localhost:8080/"
        },
        "id": "jx1VjsOdF6Gx",
        "outputId": "fb6bf529-e365-423c-e2ef-12404f7d4eec"
      },
      "outputs": [
        {
          "output_type": "stream",
          "name": "stdout",
          "text": [
            "Collecting vaderSentiment\n",
            "  Downloading vaderSentiment-3.3.2-py2.py3-none-any.whl (125 kB)\n",
            "\u001b[2K     \u001b[90m━━━━━━━━━━━━━━━━━━━━━━━━━━━━━━━━━━━━━━━━\u001b[0m \u001b[32m126.0/126.0 kB\u001b[0m \u001b[31m2.3 MB/s\u001b[0m eta \u001b[36m0:00:00\u001b[0m\n",
            "\u001b[?25hRequirement already satisfied: pandas in /usr/local/lib/python3.10/dist-packages (2.0.3)\n",
            "Requirement already satisfied: requests in /usr/local/lib/python3.10/dist-packages (from vaderSentiment) (2.31.0)\n",
            "Requirement already satisfied: python-dateutil>=2.8.2 in /usr/local/lib/python3.10/dist-packages (from pandas) (2.8.2)\n",
            "Requirement already satisfied: pytz>=2020.1 in /usr/local/lib/python3.10/dist-packages (from pandas) (2023.4)\n",
            "Requirement already satisfied: tzdata>=2022.1 in /usr/local/lib/python3.10/dist-packages (from pandas) (2024.1)\n",
            "Requirement already satisfied: numpy>=1.21.0 in /usr/local/lib/python3.10/dist-packages (from pandas) (1.25.2)\n",
            "Requirement already satisfied: six>=1.5 in /usr/local/lib/python3.10/dist-packages (from python-dateutil>=2.8.2->pandas) (1.16.0)\n",
            "Requirement already satisfied: charset-normalizer<4,>=2 in /usr/local/lib/python3.10/dist-packages (from requests->vaderSentiment) (3.3.2)\n",
            "Requirement already satisfied: idna<4,>=2.5 in /usr/local/lib/python3.10/dist-packages (from requests->vaderSentiment) (3.7)\n",
            "Requirement already satisfied: urllib3<3,>=1.21.1 in /usr/local/lib/python3.10/dist-packages (from requests->vaderSentiment) (2.0.7)\n",
            "Requirement already satisfied: certifi>=2017.4.17 in /usr/local/lib/python3.10/dist-packages (from requests->vaderSentiment) (2024.7.4)\n",
            "Installing collected packages: vaderSentiment\n",
            "Successfully installed vaderSentiment-3.3.2\n"
          ]
        }
      ],
      "source": [
        "pip install vaderSentiment pandas\n"
      ]
    },
    {
      "cell_type": "markdown",
      "source": [
        "**Step 2: Sample Data and Sentiment Analysis Code**"
      ],
      "metadata": {
        "id": "qmb6C8fDH0Mv"
      }
    },
    {
      "cell_type": "code",
      "source": [
        "import pandas as pd\n",
        "from vaderSentiment.vaderSentiment import SentimentIntensityAnalyzer\n",
        "\n",
        "# Sample data\n",
        "data = {\n",
        "    'text': [\n",
        "        'I love this product! It is amazing and works like a charm.',\n",
        "        'This is the worst experience I have ever had.',\n",
        "        'I am not sure if I like this or not.',\n",
        "        'Absolutely fantastic! Exceeded my expectations.',\n",
        "        'Terrible service, I am very disappointed.'\n",
        "    ]\n",
        "}\n",
        "\n",
        "# Create a DataFrame\n",
        "df = pd.DataFrame(data)\n",
        "\n",
        "# Initialize the VADER sentiment analyzer\n",
        "analyzer = SentimentIntensityAnalyzer()\n",
        "\n",
        "# Function to get the sentiment scores of a text\n",
        "def get_sentiment_scores(text):\n",
        "    return analyzer.polarity_scores(text)\n",
        "\n",
        "# Apply the function to the DataFrame\n",
        "df['sentiment_scores'] = df['text'].apply(get_sentiment_scores)\n",
        "\n",
        "# Extract compound score\n",
        "df['compound'] = df['sentiment_scores'].apply(lambda score_dict: score_dict['compound'])\n",
        "\n",
        "# Classify sentiment based on compound score\n",
        "df['sentiment'] = df['compound'].apply(lambda x: 'positive' if x >= 0.05 else ('negative' if x <= -0.05 else 'neutral'))\n",
        "\n",
        "# Display the DataFrame\n",
        "print(df)\n"
      ],
      "metadata": {
        "colab": {
          "base_uri": "https://localhost:8080/"
        },
        "id": "IXJOfl2wH0gS",
        "outputId": "a83af10c-c9a6-4ff9-df88-3c9011dd3600"
      },
      "execution_count": 8,
      "outputs": [
        {
          "output_type": "stream",
          "name": "stdout",
          "text": [
            "                                                text  \\\n",
            "0  I love this product! It is amazing and works l...   \n",
            "1      This is the worst experience I have ever had.   \n",
            "2               I am not sure if I like this or not.   \n",
            "3    Absolutely fantastic! Exceeded my expectations.   \n",
            "4          Terrible service, I am very disappointed.   \n",
            "\n",
            "                                    sentiment_scores  compound sentiment  \n",
            "0  {'neg': 0.0, 'neu': 0.372, 'pos': 0.628, 'comp...    0.9259  positive  \n",
            "1  {'neg': 0.339, 'neu': 0.661, 'pos': 0.0, 'comp...   -0.6249  negative  \n",
            "2  {'neg': 0.157, 'neu': 0.642, 'pos': 0.201, 'co...    0.1376  positive  \n",
            "3  {'neg': 0.0, 'neu': 0.489, 'pos': 0.511, 'comp...    0.6352  positive  \n",
            "4  {'neg': 0.619, 'neu': 0.381, 'pos': 0.0, 'comp...   -0.7574  negative  \n"
          ]
        }
      ]
    }
  ]
}